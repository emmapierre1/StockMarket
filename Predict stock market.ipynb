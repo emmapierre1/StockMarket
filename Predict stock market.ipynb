{
 "cells": [
  {
   "cell_type": "code",
   "execution_count": 3,
   "id": "bda1fa74",
   "metadata": {
    "ExecuteTime": {
     "end_time": "2022-05-28T12:26:39.718124Z",
     "start_time": "2022-05-28T12:26:35.071777Z"
    }
   },
   "outputs": [],
   "source": [
    "import yfinance as yf"
   ]
  },
  {
   "cell_type": "code",
   "execution_count": null,
   "id": "4521766a",
   "metadata": {},
   "outputs": [],
   "source": [
    "pip install yfinance"
   ]
  },
  {
   "cell_type": "code",
   "execution_count": 4,
   "id": "ffccfa8f",
   "metadata": {
    "ExecuteTime": {
     "end_time": "2022-05-28T12:27:54.036639Z",
     "start_time": "2022-05-28T12:27:54.003586Z"
    }
   },
   "outputs": [],
   "source": [
    "sp500= yf.Ticker(\"^GSPC\")"
   ]
  },
  {
   "cell_type": "code",
   "execution_count": 5,
   "id": "6ba0afe7",
   "metadata": {
    "ExecuteTime": {
     "end_time": "2022-05-28T12:29:28.820450Z",
     "start_time": "2022-05-28T12:29:28.797470Z"
    }
   },
   "outputs": [
    {
     "data": {
      "text/plain": [
       "yfinance.Ticker object <^GSPC>"
      ]
     },
     "execution_count": 5,
     "metadata": {},
     "output_type": "execute_result"
    }
   ],
   "source": [
    "sp500"
   ]
  },
  {
   "cell_type": "code",
   "execution_count": 6,
   "id": "01a6afa8",
   "metadata": {
    "ExecuteTime": {
     "end_time": "2022-05-28T12:29:52.539356Z",
     "start_time": "2022-05-28T12:29:51.680843Z"
    }
   },
   "outputs": [],
   "source": [
    "sp500 = sp500.history(period='max')"
   ]
  },
  {
   "cell_type": "code",
   "execution_count": 7,
   "id": "44cf515c",
   "metadata": {
    "ExecuteTime": {
     "end_time": "2022-05-28T12:29:59.352123Z",
     "start_time": "2022-05-28T12:29:59.318233Z"
    }
   },
   "outputs": [
    {
     "data": {
      "text/html": [
       "<div>\n",
       "<style scoped>\n",
       "    .dataframe tbody tr th:only-of-type {\n",
       "        vertical-align: middle;\n",
       "    }\n",
       "\n",
       "    .dataframe tbody tr th {\n",
       "        vertical-align: top;\n",
       "    }\n",
       "\n",
       "    .dataframe thead th {\n",
       "        text-align: right;\n",
       "    }\n",
       "</style>\n",
       "<table border=\"1\" class=\"dataframe\">\n",
       "  <thead>\n",
       "    <tr style=\"text-align: right;\">\n",
       "      <th></th>\n",
       "      <th>Open</th>\n",
       "      <th>High</th>\n",
       "      <th>Low</th>\n",
       "      <th>Close</th>\n",
       "      <th>Volume</th>\n",
       "      <th>Dividends</th>\n",
       "      <th>Stock Splits</th>\n",
       "    </tr>\n",
       "    <tr>\n",
       "      <th>Date</th>\n",
       "      <th></th>\n",
       "      <th></th>\n",
       "      <th></th>\n",
       "      <th></th>\n",
       "      <th></th>\n",
       "      <th></th>\n",
       "      <th></th>\n",
       "    </tr>\n",
       "  </thead>\n",
       "  <tbody>\n",
       "    <tr>\n",
       "      <th>1950-01-03</th>\n",
       "      <td>16.660000</td>\n",
       "      <td>16.660000</td>\n",
       "      <td>16.660000</td>\n",
       "      <td>16.660000</td>\n",
       "      <td>1260000</td>\n",
       "      <td>0</td>\n",
       "      <td>0</td>\n",
       "    </tr>\n",
       "    <tr>\n",
       "      <th>1950-01-04</th>\n",
       "      <td>16.850000</td>\n",
       "      <td>16.850000</td>\n",
       "      <td>16.850000</td>\n",
       "      <td>16.850000</td>\n",
       "      <td>1890000</td>\n",
       "      <td>0</td>\n",
       "      <td>0</td>\n",
       "    </tr>\n",
       "    <tr>\n",
       "      <th>1950-01-05</th>\n",
       "      <td>16.930000</td>\n",
       "      <td>16.930000</td>\n",
       "      <td>16.930000</td>\n",
       "      <td>16.930000</td>\n",
       "      <td>2550000</td>\n",
       "      <td>0</td>\n",
       "      <td>0</td>\n",
       "    </tr>\n",
       "    <tr>\n",
       "      <th>1950-01-06</th>\n",
       "      <td>16.980000</td>\n",
       "      <td>16.980000</td>\n",
       "      <td>16.980000</td>\n",
       "      <td>16.980000</td>\n",
       "      <td>2010000</td>\n",
       "      <td>0</td>\n",
       "      <td>0</td>\n",
       "    </tr>\n",
       "    <tr>\n",
       "      <th>1950-01-09</th>\n",
       "      <td>17.080000</td>\n",
       "      <td>17.080000</td>\n",
       "      <td>17.080000</td>\n",
       "      <td>17.080000</td>\n",
       "      <td>2520000</td>\n",
       "      <td>0</td>\n",
       "      <td>0</td>\n",
       "    </tr>\n",
       "    <tr>\n",
       "      <th>...</th>\n",
       "      <td>...</td>\n",
       "      <td>...</td>\n",
       "      <td>...</td>\n",
       "      <td>...</td>\n",
       "      <td>...</td>\n",
       "      <td>...</td>\n",
       "      <td>...</td>\n",
       "    </tr>\n",
       "    <tr>\n",
       "      <th>2022-05-23</th>\n",
       "      <td>3919.419922</td>\n",
       "      <td>3981.879883</td>\n",
       "      <td>3909.040039</td>\n",
       "      <td>3973.750000</td>\n",
       "      <td>3392770000</td>\n",
       "      <td>0</td>\n",
       "      <td>0</td>\n",
       "    </tr>\n",
       "    <tr>\n",
       "      <th>2022-05-24</th>\n",
       "      <td>3942.939941</td>\n",
       "      <td>3955.679932</td>\n",
       "      <td>3875.129883</td>\n",
       "      <td>3941.479980</td>\n",
       "      <td>3901640000</td>\n",
       "      <td>0</td>\n",
       "      <td>0</td>\n",
       "    </tr>\n",
       "    <tr>\n",
       "      <th>2022-05-25</th>\n",
       "      <td>3929.590088</td>\n",
       "      <td>3999.330078</td>\n",
       "      <td>3925.030029</td>\n",
       "      <td>3978.729980</td>\n",
       "      <td>4322190000</td>\n",
       "      <td>0</td>\n",
       "      <td>0</td>\n",
       "    </tr>\n",
       "    <tr>\n",
       "      <th>2022-05-26</th>\n",
       "      <td>3984.600098</td>\n",
       "      <td>4075.139893</td>\n",
       "      <td>3984.600098</td>\n",
       "      <td>4057.840088</td>\n",
       "      <td>3961940000</td>\n",
       "      <td>0</td>\n",
       "      <td>0</td>\n",
       "    </tr>\n",
       "    <tr>\n",
       "      <th>2022-05-27</th>\n",
       "      <td>4077.429932</td>\n",
       "      <td>4158.490234</td>\n",
       "      <td>4077.429932</td>\n",
       "      <td>4158.240234</td>\n",
       "      <td>3560560000</td>\n",
       "      <td>0</td>\n",
       "      <td>0</td>\n",
       "    </tr>\n",
       "  </tbody>\n",
       "</table>\n",
       "<p>18220 rows × 7 columns</p>\n",
       "</div>"
      ],
      "text/plain": [
       "                   Open         High          Low        Close      Volume  \\\n",
       "Date                                                                         \n",
       "1950-01-03    16.660000    16.660000    16.660000    16.660000     1260000   \n",
       "1950-01-04    16.850000    16.850000    16.850000    16.850000     1890000   \n",
       "1950-01-05    16.930000    16.930000    16.930000    16.930000     2550000   \n",
       "1950-01-06    16.980000    16.980000    16.980000    16.980000     2010000   \n",
       "1950-01-09    17.080000    17.080000    17.080000    17.080000     2520000   \n",
       "...                 ...          ...          ...          ...         ...   \n",
       "2022-05-23  3919.419922  3981.879883  3909.040039  3973.750000  3392770000   \n",
       "2022-05-24  3942.939941  3955.679932  3875.129883  3941.479980  3901640000   \n",
       "2022-05-25  3929.590088  3999.330078  3925.030029  3978.729980  4322190000   \n",
       "2022-05-26  3984.600098  4075.139893  3984.600098  4057.840088  3961940000   \n",
       "2022-05-27  4077.429932  4158.490234  4077.429932  4158.240234  3560560000   \n",
       "\n",
       "            Dividends  Stock Splits  \n",
       "Date                                 \n",
       "1950-01-03          0             0  \n",
       "1950-01-04          0             0  \n",
       "1950-01-05          0             0  \n",
       "1950-01-06          0             0  \n",
       "1950-01-09          0             0  \n",
       "...               ...           ...  \n",
       "2022-05-23          0             0  \n",
       "2022-05-24          0             0  \n",
       "2022-05-25          0             0  \n",
       "2022-05-26          0             0  \n",
       "2022-05-27          0             0  \n",
       "\n",
       "[18220 rows x 7 columns]"
      ]
     },
     "execution_count": 7,
     "metadata": {},
     "output_type": "execute_result"
    }
   ],
   "source": [
    "sp500"
   ]
  },
  {
   "cell_type": "code",
   "execution_count": 8,
   "id": "5871f476",
   "metadata": {
    "ExecuteTime": {
     "end_time": "2022-05-28T12:31:12.823398Z",
     "start_time": "2022-05-28T12:31:12.803070Z"
    }
   },
   "outputs": [
    {
     "data": {
      "text/plain": [
       "DatetimeIndex(['1950-01-03', '1950-01-04', '1950-01-05', '1950-01-06',\n",
       "               '1950-01-09', '1950-01-10', '1950-01-11', '1950-01-12',\n",
       "               '1950-01-13', '1950-01-16',\n",
       "               ...\n",
       "               '2022-05-16', '2022-05-17', '2022-05-18', '2022-05-19',\n",
       "               '2022-05-20', '2022-05-23', '2022-05-24', '2022-05-25',\n",
       "               '2022-05-26', '2022-05-27'],\n",
       "              dtype='datetime64[ns]', name='Date', length=18220, freq=None)"
      ]
     },
     "execution_count": 8,
     "metadata": {},
     "output_type": "execute_result"
    }
   ],
   "source": [
    "sp500.index"
   ]
  },
  {
   "cell_type": "code",
   "execution_count": 9,
   "id": "c169f510",
   "metadata": {
    "ExecuteTime": {
     "end_time": "2022-05-28T12:32:02.356681Z",
     "start_time": "2022-05-28T12:32:01.070226Z"
    }
   },
   "outputs": [
    {
     "data": {
      "text/plain": [
       "<AxesSubplot:xlabel='Date'>"
      ]
     },
     "execution_count": 9,
     "metadata": {},
     "output_type": "execute_result"
    },
    {
     "data": {
      "image/png": "[encoded data removed]",
      "text/plain": [
       "<Figure size 432x288 with 1 Axes>"
      ]
     },
     "metadata": {
      "needs_background": "light"
     },
     "output_type": "display_data"
    }
   ],
   "source": [
    "sp500.plot.line(y='Close', use_index=True)"
   ]
  },
  {
   "cell_type": "code",
   "execution_count": 11,
   "id": "44c3e709",
   "metadata": {
    "ExecuteTime": {
     "end_time": "2022-05-28T12:32:45.912965Z",
     "start_time": "2022-05-28T12:32:45.905847Z"
    }
   },
   "outputs": [],
   "source": [
    "del sp500[\"Dividends\"]"
   ]
  },
  {
   "cell_type": "code",
   "execution_count": 12,
   "id": "5e0bed0d",
   "metadata": {
    "ExecuteTime": {
     "end_time": "2022-05-28T12:33:37.434398Z",
     "start_time": "2022-05-28T12:33:37.421335Z"
    }
   },
   "outputs": [],
   "source": [
    "del sp500[\"Stock Splits\"]"
   ]
  },
  {
   "cell_type": "code",
   "execution_count": 13,
   "id": "d6cde7be",
   "metadata": {
    "ExecuteTime": {
     "end_time": "2022-05-28T12:34:20.882970Z",
     "start_time": "2022-05-28T12:34:20.865198Z"
    }
   },
   "outputs": [],
   "source": [
    "sp500[\"Tomorrow\"] =  sp500[\"Close\"].shift(-1) #décale l’index du nombre de périodes souhaité : ici 1 dans le futur"
   ]
  },
  {
   "cell_type": "code",
   "execution_count": 14,
   "id": "e26efc9a",
   "metadata": {
    "ExecuteTime": {
     "end_time": "2022-05-28T12:34:24.048327Z",
     "start_time": "2022-05-28T12:34:24.017077Z"
    }
   },
   "outputs": [
    {
     "data": {
      "text/html": [
       "<div>\n",
       "<style scoped>\n",
       "    .dataframe tbody tr th:only-of-type {\n",
       "        vertical-align: middle;\n",
       "    }\n",
       "\n",
       "    .dataframe tbody tr th {\n",
       "        vertical-align: top;\n",
       "    }\n",
       "\n",
       "    .dataframe thead th {\n",
       "        text-align: right;\n",
       "    }\n",
       "</style>\n",
       "<table border=\"1\" class=\"dataframe\">\n",
       "  <thead>\n",
       "    <tr style=\"text-align: right;\">\n",
       "      <th></th>\n",
       "      <th>Open</th>\n",
       "      <th>High</th>\n",
       "      <th>Low</th>\n",
       "      <th>Close</th>\n",
       "      <th>Volume</th>\n",
       "      <th>Tomorrow</th>\n",
       "    </tr>\n",
       "    <tr>\n",
       "      <th>Date</th>\n",
       "      <th></th>\n",
       "      <th></th>\n",
       "      <th></th>\n",
       "      <th></th>\n",
       "      <th></th>\n",
       "      <th></th>\n",
       "    </tr>\n",
       "  </thead>\n",
       "  <tbody>\n",
       "    <tr>\n",
       "      <th>1950-01-03</th>\n",
       "      <td>16.660000</td>\n",
       "      <td>16.660000</td>\n",
       "      <td>16.660000</td>\n",
       "      <td>16.660000</td>\n",
       "      <td>1260000</td>\n",
       "      <td>16.850000</td>\n",
       "    </tr>\n",
       "    <tr>\n",
       "      <th>1950-01-04</th>\n",
       "      <td>16.850000</td>\n",
       "      <td>16.850000</td>\n",
       "      <td>16.850000</td>\n",
       "      <td>16.850000</td>\n",
       "      <td>1890000</td>\n",
       "      <td>16.930000</td>\n",
       "    </tr>\n",
       "    <tr>\n",
       "      <th>1950-01-05</th>\n",
       "      <td>16.930000</td>\n",
       "      <td>16.930000</td>\n",
       "      <td>16.930000</td>\n",
       "      <td>16.930000</td>\n",
       "      <td>2550000</td>\n",
       "      <td>16.980000</td>\n",
       "    </tr>\n",
       "    <tr>\n",
       "      <th>1950-01-06</th>\n",
       "      <td>16.980000</td>\n",
       "      <td>16.980000</td>\n",
       "      <td>16.980000</td>\n",
       "      <td>16.980000</td>\n",
       "      <td>2010000</td>\n",
       "      <td>17.080000</td>\n",
       "    </tr>\n",
       "    <tr>\n",
       "      <th>1950-01-09</th>\n",
       "      <td>17.080000</td>\n",
       "      <td>17.080000</td>\n",
       "      <td>17.080000</td>\n",
       "      <td>17.080000</td>\n",
       "      <td>2520000</td>\n",
       "      <td>17.030001</td>\n",
       "    </tr>\n",
       "    <tr>\n",
       "      <th>...</th>\n",
       "      <td>...</td>\n",
       "      <td>...</td>\n",
       "      <td>...</td>\n",
       "      <td>...</td>\n",
       "      <td>...</td>\n",
       "      <td>...</td>\n",
       "    </tr>\n",
       "    <tr>\n",
       "      <th>2022-05-23</th>\n",
       "      <td>3919.419922</td>\n",
       "      <td>3981.879883</td>\n",
       "      <td>3909.040039</td>\n",
       "      <td>3973.750000</td>\n",
       "      <td>3392770000</td>\n",
       "      <td>3941.479980</td>\n",
       "    </tr>\n",
       "    <tr>\n",
       "      <th>2022-05-24</th>\n",
       "      <td>3942.939941</td>\n",
       "      <td>3955.679932</td>\n",
       "      <td>3875.129883</td>\n",
       "      <td>3941.479980</td>\n",
       "      <td>3901640000</td>\n",
       "      <td>3978.729980</td>\n",
       "    </tr>\n",
       "    <tr>\n",
       "      <th>2022-05-25</th>\n",
       "      <td>3929.590088</td>\n",
       "      <td>3999.330078</td>\n",
       "      <td>3925.030029</td>\n",
       "      <td>3978.729980</td>\n",
       "      <td>4322190000</td>\n",
       "      <td>4057.840088</td>\n",
       "    </tr>\n",
       "    <tr>\n",
       "      <th>2022-05-26</th>\n",
       "      <td>3984.600098</td>\n",
       "      <td>4075.139893</td>\n",
       "      <td>3984.600098</td>\n",
       "      <td>4057.840088</td>\n",
       "      <td>3961940000</td>\n",
       "      <td>4158.240234</td>\n",
       "    </tr>\n",
       "    <tr>\n",
       "      <th>2022-05-27</th>\n",
       "      <td>4077.429932</td>\n",
       "      <td>4158.490234</td>\n",
       "      <td>4077.429932</td>\n",
       "      <td>4158.240234</td>\n",
       "      <td>3560560000</td>\n",
       "      <td>NaN</td>\n",
       "    </tr>\n",
       "  </tbody>\n",
       "</table>\n",
       "<p>18220 rows × 6 columns</p>\n",
       "</div>"
      ],
      "text/plain": [
       "                   Open         High          Low        Close      Volume  \\\n",
       "Date                                                                         \n",
       "1950-01-03    16.660000    16.660000    16.660000    16.660000     1260000   \n",
       "1950-01-04    16.850000    16.850000    16.850000    16.850000     1890000   \n",
       "1950-01-05    16.930000    16.930000    16.930000    16.930000     2550000   \n",
       "1950-01-06    16.980000    16.980000    16.980000    16.980000     2010000   \n",
       "1950-01-09    17.080000    17.080000    17.080000    17.080000     2520000   \n",
       "...                 ...          ...          ...          ...         ...   \n",
       "2022-05-23  3919.419922  3981.879883  3909.040039  3973.750000  3392770000   \n",
       "2022-05-24  3942.939941  3955.679932  3875.129883  3941.479980  3901640000   \n",
       "2022-05-25  3929.590088  3999.330078  3925.030029  3978.729980  4322190000   \n",
       "2022-05-26  3984.600098  4075.139893  3984.600098  4057.840088  3961940000   \n",
       "2022-05-27  4077.429932  4158.490234  4077.429932  4158.240234  3560560000   \n",
       "\n",
       "               Tomorrow  \n",
       "Date                     \n",
       "1950-01-03    16.850000  \n",
       "1950-01-04    16.930000  \n",
       "1950-01-05    16.980000  \n",
       "1950-01-06    17.080000  \n",
       "1950-01-09    17.030001  \n",
       "...                 ...  \n",
       "2022-05-23  3941.479980  \n",
       "2022-05-24  3978.729980  \n",
       "2022-05-25  4057.840088  \n",
       "2022-05-26  4158.240234  \n",
       "2022-05-27          NaN  \n",
       "\n",
       "[18220 rows x 6 columns]"
      ]
     },
     "execution_count": 14,
     "metadata": {},
     "output_type": "execute_result"
    }
   ],
   "source": [
    "sp500"
   ]
  },
  {
   "cell_type": "code",
   "execution_count": 15,
   "id": "dbee054e",
   "metadata": {
    "ExecuteTime": {
     "end_time": "2022-05-28T12:41:16.834247Z",
     "start_time": "2022-05-28T12:41:16.802423Z"
    }
   },
   "outputs": [],
   "source": [
    "sp500[\"Target\"] = (sp500[\"Tomorrow\"]> sp500['Close']).astype(int) # 1 quand le prix monte, 0 quand il descend"
   ]
  },
  {
   "cell_type": "code",
   "execution_count": 16,
   "id": "f72b75e6",
   "metadata": {
    "ExecuteTime": {
     "end_time": "2022-05-28T12:41:20.675949Z",
     "start_time": "2022-05-28T12:41:20.643665Z"
    }
   },
   "outputs": [
    {
     "data": {
      "text/html": [
       "<div>\n",
       "<style scoped>\n",
       "    .dataframe tbody tr th:only-of-type {\n",
       "        vertical-align: middle;\n",
       "    }\n",
       "\n",
       "    .dataframe tbody tr th {\n",
       "        vertical-align: top;\n",
       "    }\n",
       "\n",
       "    .dataframe thead th {\n",
       "        text-align: right;\n",
       "    }\n",
       "</style>\n",
       "<table border=\"1\" class=\"dataframe\">\n",
       "  <thead>\n",
       "    <tr style=\"text-align: right;\">\n",
       "      <th></th>\n",
       "      <th>Open</th>\n",
       "      <th>High</th>\n",
       "      <th>Low</th>\n",
       "      <th>Close</th>\n",
       "      <th>Volume</th>\n",
       "      <th>Tomorrow</th>\n",
       "      <th>Target</th>\n",
       "    </tr>\n",
       "    <tr>\n",
       "      <th>Date</th>\n",
       "      <th></th>\n",
       "      <th></th>\n",
       "      <th></th>\n",
       "      <th></th>\n",
       "      <th></th>\n",
       "      <th></th>\n",
       "      <th></th>\n",
       "    </tr>\n",
       "  </thead>\n",
       "  <tbody>\n",
       "    <tr>\n",
       "      <th>1950-01-03</th>\n",
       "      <td>16.660000</td>\n",
       "      <td>16.660000</td>\n",
       "      <td>16.660000</td>\n",
       "      <td>16.660000</td>\n",
       "      <td>1260000</td>\n",
       "      <td>16.850000</td>\n",
       "      <td>1</td>\n",
       "    </tr>\n",
       "    <tr>\n",
       "      <th>1950-01-04</th>\n",
       "      <td>16.850000</td>\n",
       "      <td>16.850000</td>\n",
       "      <td>16.850000</td>\n",
       "      <td>16.850000</td>\n",
       "      <td>1890000</td>\n",
       "      <td>16.930000</td>\n",
       "      <td>1</td>\n",
       "    </tr>\n",
       "    <tr>\n",
       "      <th>1950-01-05</th>\n",
       "      <td>16.930000</td>\n",
       "      <td>16.930000</td>\n",
       "      <td>16.930000</td>\n",
       "      <td>16.930000</td>\n",
       "      <td>2550000</td>\n",
       "      <td>16.980000</td>\n",
       "      <td>1</td>\n",
       "    </tr>\n",
       "    <tr>\n",
       "      <th>1950-01-06</th>\n",
       "      <td>16.980000</td>\n",
       "      <td>16.980000</td>\n",
       "      <td>16.980000</td>\n",
       "      <td>16.980000</td>\n",
       "      <td>2010000</td>\n",
       "      <td>17.080000</td>\n",
       "      <td>1</td>\n",
       "    </tr>\n",
       "    <tr>\n",
       "      <th>1950-01-09</th>\n",
       "      <td>17.080000</td>\n",
       "      <td>17.080000</td>\n",
       "      <td>17.080000</td>\n",
       "      <td>17.080000</td>\n",
       "      <td>2520000</td>\n",
       "      <td>17.030001</td>\n",
       "      <td>0</td>\n",
       "    </tr>\n",
       "    <tr>\n",
       "      <th>...</th>\n",
       "      <td>...</td>\n",
       "      <td>...</td>\n",
       "      <td>...</td>\n",
       "      <td>...</td>\n",
       "      <td>...</td>\n",
       "      <td>...</td>\n",
       "      <td>...</td>\n",
       "    </tr>\n",
       "    <tr>\n",
       "      <th>2022-05-23</th>\n",
       "      <td>3919.419922</td>\n",
       "      <td>3981.879883</td>\n",
       "      <td>3909.040039</td>\n",
       "      <td>3973.750000</td>\n",
       "      <td>3392770000</td>\n",
       "      <td>3941.479980</td>\n",
       "      <td>0</td>\n",
       "    </tr>\n",
       "    <tr>\n",
       "      <th>2022-05-24</th>\n",
       "      <td>3942.939941</td>\n",
       "      <td>3955.679932</td>\n",
       "      <td>3875.129883</td>\n",
       "      <td>3941.479980</td>\n",
       "      <td>3901640000</td>\n",
       "      <td>3978.729980</td>\n",
       "      <td>1</td>\n",
       "    </tr>\n",
       "    <tr>\n",
       "      <th>2022-05-25</th>\n",
       "      <td>3929.590088</td>\n",
       "      <td>3999.330078</td>\n",
       "      <td>3925.030029</td>\n",
       "      <td>3978.729980</td>\n",
       "      <td>4322190000</td>\n",
       "      <td>4057.840088</td>\n",
       "      <td>1</td>\n",
       "    </tr>\n",
       "    <tr>\n",
       "      <th>2022-05-26</th>\n",
       "      <td>3984.600098</td>\n",
       "      <td>4075.139893</td>\n",
       "      <td>3984.600098</td>\n",
       "      <td>4057.840088</td>\n",
       "      <td>3961940000</td>\n",
       "      <td>4158.240234</td>\n",
       "      <td>1</td>\n",
       "    </tr>\n",
       "    <tr>\n",
       "      <th>2022-05-27</th>\n",
       "      <td>4077.429932</td>\n",
       "      <td>4158.490234</td>\n",
       "      <td>4077.429932</td>\n",
       "      <td>4158.240234</td>\n",
       "      <td>3560560000</td>\n",
       "      <td>NaN</td>\n",
       "      <td>0</td>\n",
       "    </tr>\n",
       "  </tbody>\n",
       "</table>\n",
       "<p>18220 rows × 7 columns</p>\n",
       "</div>"
      ],
      "text/plain": [
       "                   Open         High          Low        Close      Volume  \\\n",
       "Date                                                                         \n",
       "1950-01-03    16.660000    16.660000    16.660000    16.660000     1260000   \n",
       "1950-01-04    16.850000    16.850000    16.850000    16.850000     1890000   \n",
       "1950-01-05    16.930000    16.930000    16.930000    16.930000     2550000   \n",
       "1950-01-06    16.980000    16.980000    16.980000    16.980000     2010000   \n",
       "1950-01-09    17.080000    17.080000    17.080000    17.080000     2520000   \n",
       "...                 ...          ...          ...          ...         ...   \n",
       "2022-05-23  3919.419922  3981.879883  3909.040039  3973.750000  3392770000   \n",
       "2022-05-24  3942.939941  3955.679932  3875.129883  3941.479980  3901640000   \n",
       "2022-05-25  3929.590088  3999.330078  3925.030029  3978.729980  4322190000   \n",
       "2022-05-26  3984.600098  4075.139893  3984.600098  4057.840088  3961940000   \n",
       "2022-05-27  4077.429932  4158.490234  4077.429932  4158.240234  3560560000   \n",
       "\n",
       "               Tomorrow  Target  \n",
       "Date                             \n",
       "1950-01-03    16.850000       1  \n",
       "1950-01-04    16.930000       1  \n",
       "1950-01-05    16.980000       1  \n",
       "1950-01-06    17.080000       1  \n",
       "1950-01-09    17.030001       0  \n",
       "...                 ...     ...  \n",
       "2022-05-23  3941.479980       0  \n",
       "2022-05-24  3978.729980       1  \n",
       "2022-05-25  4057.840088       1  \n",
       "2022-05-26  4158.240234       1  \n",
       "2022-05-27          NaN       0  \n",
       "\n",
       "[18220 rows x 7 columns]"
      ]
     },
     "execution_count": 16,
     "metadata": {},
     "output_type": "execute_result"
    }
   ],
   "source": [
    "sp500"
   ]
  },
  {
   "cell_type": "code",
   "execution_count": 18,
   "id": "27f25bad",
   "metadata": {
    "ExecuteTime": {
     "end_time": "2022-05-28T12:45:07.369321Z",
     "start_time": "2022-05-28T12:45:07.348834Z"
    }
   },
   "outputs": [],
   "source": [
    "sp500 = sp500.loc[\"1990-01-01\":].copy() \n",
    "#on ne prend que les dates récentes dans une \n",
    "#prédiction de stock car tendance peut énormément \n",
    "#changer au début d'un marché et donc mal influencer nos résultats "
   ]
  },
  {
   "cell_type": "code",
   "execution_count": 19,
   "id": "6dddfe7f",
   "metadata": {
    "ExecuteTime": {
     "end_time": "2022-05-28T12:45:30.588557Z",
     "start_time": "2022-05-28T12:45:30.556473Z"
    }
   },
   "outputs": [
    {
     "data": {
      "text/html": [
       "<div>\n",
       "<style scoped>\n",
       "    .dataframe tbody tr th:only-of-type {\n",
       "        vertical-align: middle;\n",
       "    }\n",
       "\n",
       "    .dataframe tbody tr th {\n",
       "        vertical-align: top;\n",
       "    }\n",
       "\n",
       "    .dataframe thead th {\n",
       "        text-align: right;\n",
       "    }\n",
       "</style>\n",
       "<table border=\"1\" class=\"dataframe\">\n",
       "  <thead>\n",
       "    <tr style=\"text-align: right;\">\n",
       "      <th></th>\n",
       "      <th>Open</th>\n",
       "      <th>High</th>\n",
       "      <th>Low</th>\n",
       "      <th>Close</th>\n",
       "      <th>Volume</th>\n",
       "      <th>Tomorrow</th>\n",
       "      <th>Target</th>\n",
       "    </tr>\n",
       "    <tr>\n",
       "      <th>Date</th>\n",
       "      <th></th>\n",
       "      <th></th>\n",
       "      <th></th>\n",
       "      <th></th>\n",
       "      <th></th>\n",
       "      <th></th>\n",
       "      <th></th>\n",
       "    </tr>\n",
       "  </thead>\n",
       "  <tbody>\n",
       "    <tr>\n",
       "      <th>1990-01-02</th>\n",
       "      <td>353.399994</td>\n",
       "      <td>359.690002</td>\n",
       "      <td>351.980011</td>\n",
       "      <td>359.690002</td>\n",
       "      <td>162070000</td>\n",
       "      <td>358.760010</td>\n",
       "      <td>0</td>\n",
       "    </tr>\n",
       "    <tr>\n",
       "      <th>1990-01-03</th>\n",
       "      <td>359.690002</td>\n",
       "      <td>360.589996</td>\n",
       "      <td>357.890015</td>\n",
       "      <td>358.760010</td>\n",
       "      <td>192330000</td>\n",
       "      <td>355.670013</td>\n",
       "      <td>0</td>\n",
       "    </tr>\n",
       "    <tr>\n",
       "      <th>1990-01-04</th>\n",
       "      <td>358.760010</td>\n",
       "      <td>358.760010</td>\n",
       "      <td>352.890015</td>\n",
       "      <td>355.670013</td>\n",
       "      <td>177000000</td>\n",
       "      <td>352.200012</td>\n",
       "      <td>0</td>\n",
       "    </tr>\n",
       "    <tr>\n",
       "      <th>1990-01-05</th>\n",
       "      <td>355.670013</td>\n",
       "      <td>355.670013</td>\n",
       "      <td>351.350006</td>\n",
       "      <td>352.200012</td>\n",
       "      <td>158530000</td>\n",
       "      <td>353.790009</td>\n",
       "      <td>1</td>\n",
       "    </tr>\n",
       "    <tr>\n",
       "      <th>1990-01-08</th>\n",
       "      <td>352.200012</td>\n",
       "      <td>354.239990</td>\n",
       "      <td>350.540009</td>\n",
       "      <td>353.790009</td>\n",
       "      <td>140110000</td>\n",
       "      <td>349.619995</td>\n",
       "      <td>0</td>\n",
       "    </tr>\n",
       "    <tr>\n",
       "      <th>...</th>\n",
       "      <td>...</td>\n",
       "      <td>...</td>\n",
       "      <td>...</td>\n",
       "      <td>...</td>\n",
       "      <td>...</td>\n",
       "      <td>...</td>\n",
       "      <td>...</td>\n",
       "    </tr>\n",
       "    <tr>\n",
       "      <th>2022-05-23</th>\n",
       "      <td>3919.419922</td>\n",
       "      <td>3981.879883</td>\n",
       "      <td>3909.040039</td>\n",
       "      <td>3973.750000</td>\n",
       "      <td>3392770000</td>\n",
       "      <td>3941.479980</td>\n",
       "      <td>0</td>\n",
       "    </tr>\n",
       "    <tr>\n",
       "      <th>2022-05-24</th>\n",
       "      <td>3942.939941</td>\n",
       "      <td>3955.679932</td>\n",
       "      <td>3875.129883</td>\n",
       "      <td>3941.479980</td>\n",
       "      <td>3901640000</td>\n",
       "      <td>3978.729980</td>\n",
       "      <td>1</td>\n",
       "    </tr>\n",
       "    <tr>\n",
       "      <th>2022-05-25</th>\n",
       "      <td>3929.590088</td>\n",
       "      <td>3999.330078</td>\n",
       "      <td>3925.030029</td>\n",
       "      <td>3978.729980</td>\n",
       "      <td>4322190000</td>\n",
       "      <td>4057.840088</td>\n",
       "      <td>1</td>\n",
       "    </tr>\n",
       "    <tr>\n",
       "      <th>2022-05-26</th>\n",
       "      <td>3984.600098</td>\n",
       "      <td>4075.139893</td>\n",
       "      <td>3984.600098</td>\n",
       "      <td>4057.840088</td>\n",
       "      <td>3961940000</td>\n",
       "      <td>4158.240234</td>\n",
       "      <td>1</td>\n",
       "    </tr>\n",
       "    <tr>\n",
       "      <th>2022-05-27</th>\n",
       "      <td>4077.429932</td>\n",
       "      <td>4158.490234</td>\n",
       "      <td>4077.429932</td>\n",
       "      <td>4158.240234</td>\n",
       "      <td>3560560000</td>\n",
       "      <td>NaN</td>\n",
       "      <td>0</td>\n",
       "    </tr>\n",
       "  </tbody>\n",
       "</table>\n",
       "<p>8166 rows × 7 columns</p>\n",
       "</div>"
      ],
      "text/plain": [
       "                   Open         High          Low        Close      Volume  \\\n",
       "Date                                                                         \n",
       "1990-01-02   353.399994   359.690002   351.980011   359.690002   162070000   \n",
       "1990-01-03   359.690002   360.589996   357.890015   358.760010   192330000   \n",
       "1990-01-04   358.760010   358.760010   352.890015   355.670013   177000000   \n",
       "1990-01-05   355.670013   355.670013   351.350006   352.200012   158530000   \n",
       "1990-01-08   352.200012   354.239990   350.540009   353.790009   140110000   \n",
       "...                 ...          ...          ...          ...         ...   \n",
       "2022-05-23  3919.419922  3981.879883  3909.040039  3973.750000  3392770000   \n",
       "2022-05-24  3942.939941  3955.679932  3875.129883  3941.479980  3901640000   \n",
       "2022-05-25  3929.590088  3999.330078  3925.030029  3978.729980  4322190000   \n",
       "2022-05-26  3984.600098  4075.139893  3984.600098  4057.840088  3961940000   \n",
       "2022-05-27  4077.429932  4158.490234  4077.429932  4158.240234  3560560000   \n",
       "\n",
       "               Tomorrow  Target  \n",
       "Date                             \n",
       "1990-01-02   358.760010       0  \n",
       "1990-01-03   355.670013       0  \n",
       "1990-01-04   352.200012       0  \n",
       "1990-01-05   353.790009       1  \n",
       "1990-01-08   349.619995       0  \n",
       "...                 ...     ...  \n",
       "2022-05-23  3941.479980       0  \n",
       "2022-05-24  3978.729980       1  \n",
       "2022-05-25  4057.840088       1  \n",
       "2022-05-26  4158.240234       1  \n",
       "2022-05-27          NaN       0  \n",
       "\n",
       "[8166 rows x 7 columns]"
      ]
     },
     "execution_count": 19,
     "metadata": {},
     "output_type": "execute_result"
    }
   ],
   "source": [
    "sp500"
   ]
  },
  {
   "cell_type": "markdown",
   "id": "1d310188",
   "metadata": {
    "ExecuteTime": {
     "end_time": "2022-05-28T12:46:22.452343Z",
     "start_time": "2022-05-28T12:46:22.411381Z"
    }
   },
   "source": [
    "# Prediction"
   ]
  },
  {
   "cell_type": "code",
   "execution_count": 21,
   "id": "ebdde0cc",
   "metadata": {
    "ExecuteTime": {
     "end_time": "2022-05-28T12:47:13.462771Z",
     "start_time": "2022-05-28T12:47:03.123433Z"
    }
   },
   "outputs": [],
   "source": [
    "from sklearn.ensemble import RandomForestClassifier"
   ]
  },
  {
   "cell_type": "markdown",
   "id": "c5aeaf98",
   "metadata": {},
   "source": [
    "RandomForest = \n",
    "- résistant overfit (moyenne sur plusieurs DecisionTrees)\n",
    "- run relatively quicly\n",
    "- capte tendance non linéaire"
   ]
  },
  {
   "cell_type": "code",
   "execution_count": 22,
   "id": "fde6b0ab",
   "metadata": {
    "ExecuteTime": {
     "end_time": "2022-05-28T12:50:48.426924Z",
     "start_time": "2022-05-28T12:50:48.418467Z"
    }
   },
   "outputs": [],
   "source": [
    "model = RandomForestClassifier(n_estimators=100, min_samples_split=100, random_state=1)"
   ]
  },
  {
   "cell_type": "code",
   "execution_count": 23,
   "id": "575b4678",
   "metadata": {
    "ExecuteTime": {
     "end_time": "2022-05-28T12:59:01.708980Z",
     "start_time": "2022-05-28T12:59:01.693048Z"
    }
   },
   "outputs": [],
   "source": [
    "train = sp500.iloc[:-100] # attention : time series donc pas de cross validation"
   ]
  },
  {
   "cell_type": "code",
   "execution_count": 24,
   "id": "3f95a247",
   "metadata": {
    "ExecuteTime": {
     "end_time": "2022-05-28T12:59:18.474441Z",
     "start_time": "2022-05-28T12:59:18.467877Z"
    }
   },
   "outputs": [],
   "source": [
    "test = sp500.iloc[-100:]"
   ]
  },
  {
   "cell_type": "code",
   "execution_count": 25,
   "id": "ae9da3e9",
   "metadata": {
    "ExecuteTime": {
     "end_time": "2022-05-28T13:07:36.392588Z",
     "start_time": "2022-05-28T13:07:36.379260Z"
    }
   },
   "outputs": [],
   "source": [
    "predictors = [\"Close\", \"Volume\", \"Open\", \"High\", \"Low\"]"
   ]
  },
  {
   "cell_type": "code",
   "execution_count": 26,
   "id": "8de0d4b2",
   "metadata": {
    "ExecuteTime": {
     "end_time": "2022-05-28T13:08:08.575696Z",
     "start_time": "2022-05-28T13:08:08.549222Z"
    }
   },
   "outputs": [],
   "source": [
    "X = train[predictors]\n",
    "y = train[\"Target\"]"
   ]
  },
  {
   "cell_type": "code",
   "execution_count": 27,
   "id": "1c03b884",
   "metadata": {
    "ExecuteTime": {
     "end_time": "2022-05-28T13:08:15.151471Z",
     "start_time": "2022-05-28T13:08:13.331021Z"
    }
   },
   "outputs": [
    {
     "data": {
      "text/plain": [
       "RandomForestClassifier(min_samples_split=100, random_state=1)"
      ]
     },
     "execution_count": 27,
     "metadata": {},
     "output_type": "execute_result"
    }
   ],
   "source": [
    "model.fit(X,y)"
   ]
  },
  {
   "cell_type": "code",
   "execution_count": 28,
   "id": "6c67dd36",
   "metadata": {
    "ExecuteTime": {
     "end_time": "2022-05-28T13:08:34.766997Z",
     "start_time": "2022-05-28T13:08:34.762803Z"
    }
   },
   "outputs": [],
   "source": [
    "from sklearn.metrics import precision_score \n",
    "#quand le marché baisse, \n",
    "#il baisse réellement (vrai positif)"
   ]
  },
  {
   "cell_type": "code",
   "execution_count": 29,
   "id": "79028c5b",
   "metadata": {
    "ExecuteTime": {
     "end_time": "2022-05-28T13:10:59.493289Z",
     "start_time": "2022-05-28T13:10:59.447131Z"
    }
   },
   "outputs": [],
   "source": [
    "preds = model.predict(test[predictors])"
   ]
  },
  {
   "cell_type": "code",
   "execution_count": 30,
   "id": "64e3584f",
   "metadata": {
    "ExecuteTime": {
     "end_time": "2022-05-28T13:11:10.952755Z",
     "start_time": "2022-05-28T13:11:10.949142Z"
    }
   },
   "outputs": [],
   "source": [
    "import pandas as pd"
   ]
  },
  {
   "cell_type": "code",
   "execution_count": 32,
   "id": "574bb200",
   "metadata": {
    "ExecuteTime": {
     "end_time": "2022-05-28T13:11:47.160316Z",
     "start_time": "2022-05-28T13:11:47.146111Z"
    }
   },
   "outputs": [],
   "source": [
    "preds = pd.Series(preds, index = test.index)"
   ]
  },
  {
   "cell_type": "code",
   "execution_count": 33,
   "id": "79b71922",
   "metadata": {
    "ExecuteTime": {
     "end_time": "2022-05-28T13:11:59.537949Z",
     "start_time": "2022-05-28T13:11:59.519288Z"
    },
    "collapsed": true
   },
   "outputs": [
    {
     "data": {
      "text/plain": [
       "Date\n",
       "2022-01-05    0\n",
       "2022-01-06    1\n",
       "2022-01-07    1\n",
       "2022-01-10    1\n",
       "2022-01-11    0\n",
       "             ..\n",
       "2022-05-23    1\n",
       "2022-05-24    0\n",
       "2022-05-25    0\n",
       "2022-05-26    1\n",
       "2022-05-27    0\n",
       "Length: 100, dtype: int64"
      ]
     },
     "execution_count": 33,
     "metadata": {},
     "output_type": "execute_result"
    }
   ],
   "source": [
    "preds"
   ]
  },
  {
   "cell_type": "code",
   "execution_count": 34,
   "id": "258a2ae5",
   "metadata": {
    "ExecuteTime": {
     "end_time": "2022-05-28T13:12:24.987334Z",
     "start_time": "2022-05-28T13:12:24.959007Z"
    }
   },
   "outputs": [
    {
     "data": {
      "text/plain": [
       "0.43820224719101125"
      ]
     },
     "execution_count": 34,
     "metadata": {},
     "output_type": "execute_result"
    }
   ],
   "source": [
    "precision_score(test[\"Target\"], preds)"
   ]
  },
  {
   "cell_type": "code",
   "execution_count": 35,
   "id": "12ba2e1b",
   "metadata": {
    "ExecuteTime": {
     "end_time": "2022-05-28T13:13:18.132762Z",
     "start_time": "2022-05-28T13:13:18.114060Z"
    }
   },
   "outputs": [],
   "source": [
    "combined = pd.concat([test[\"Target\"], preds], axis=1)"
   ]
  },
  {
   "cell_type": "code",
   "execution_count": 36,
   "id": "d764620c",
   "metadata": {
    "ExecuteTime": {
     "end_time": "2022-05-28T13:13:25.562336Z",
     "start_time": "2022-05-28T13:13:25.377194Z"
    }
   },
   "outputs": [
    {
     "data": {
      "text/plain": [
       "<AxesSubplot:xlabel='Date'>"
      ]
     },
     "execution_count": 36,
     "metadata": {},
     "output_type": "execute_result"
    },
    {
     "data": {
      "image/png": "[encoded data removed]",
      "text/plain": [
       "<Figure size 432x288 with 1 Axes>"
      ]
     },
     "metadata": {
      "needs_background": "light"
     },
     "output_type": "display_data"
    }
   ],
   "source": [
    "combined.plot()"
   ]
  },
  {
   "cell_type": "code",
   "execution_count": 38,
   "id": "d4cea082",
   "metadata": {
    "ExecuteTime": {
     "end_time": "2022-05-30T15:12:58.081145Z",
     "start_time": "2022-05-30T15:12:58.036116Z"
    }
   },
   "outputs": [],
   "source": [
    "def predict(train, test, predctors, model):\n",
    "    model.fit(train[predictors], train['Target'])\n",
    "    preds = model.predict(test[predictors])\n",
    "    preds = pd.Series(preds, index=test.index, name=\"Predictions\")\n",
    "    combined = pd.concat([test['Target'], preds], axis=1)\n",
    "    return combined"
   ]
  },
  {
   "cell_type": "code",
   "execution_count": 39,
   "id": "18ac5909",
   "metadata": {
    "ExecuteTime": {
     "end_time": "2022-05-30T15:16:57.117955Z",
     "start_time": "2022-05-30T15:16:57.102120Z"
    }
   },
   "outputs": [],
   "source": [
    "def backtest(data, model, predictors, start=2500, step=250):\n",
    "    all_predictions=[]\n",
    "    \n",
    "    for i in range(start, data.shape[0], step):\n",
    "        train = data.iloc[0:i].copy()\n",
    "        test = data.iloc[i:(i+step)].copy()\n",
    "        predictions = predict(train, test, predictors, model)\n",
    "        all_predictions.append(predictions)\n",
    "        \n",
    "    return pd.concat(all_predictions)"
   ]
  },
  {
   "cell_type": "code",
   "execution_count": 40,
   "id": "00e90b21",
   "metadata": {
    "ExecuteTime": {
     "end_time": "2022-05-30T15:17:41.613920Z",
     "start_time": "2022-05-30T15:17:17.651843Z"
    }
   },
   "outputs": [],
   "source": [
    "predictions = backtest(sp500, model, predictors)"
   ]
  },
  {
   "cell_type": "code",
   "execution_count": 41,
   "id": "d7c3f166",
   "metadata": {
    "ExecuteTime": {
     "end_time": "2022-05-30T15:18:02.204272Z",
     "start_time": "2022-05-30T15:18:02.188099Z"
    }
   },
   "outputs": [
    {
     "data": {
      "text/plain": [
       "0    3323\n",
       "1    2343\n",
       "Name: Predictions, dtype: int64"
      ]
     },
     "execution_count": 41,
     "metadata": {},
     "output_type": "execute_result"
    }
   ],
   "source": [
    "predictions[\"Predictions\"].value_counts()"
   ]
  },
  {
   "cell_type": "code",
   "execution_count": 42,
   "id": "d964f147",
   "metadata": {
    "ExecuteTime": {
     "end_time": "2022-05-30T15:19:03.258984Z",
     "start_time": "2022-05-30T15:19:03.230680Z"
    }
   },
   "outputs": [
    {
     "data": {
      "text/plain": [
       "0.5356380708493385"
      ]
     },
     "execution_count": 42,
     "metadata": {},
     "output_type": "execute_result"
    }
   ],
   "source": [
    "precision_score(predictions[\"Target\"], predictions[\"Predictions\"])"
   ]
  },
  {
   "cell_type": "code",
   "execution_count": 43,
   "id": "cf5250fd",
   "metadata": {
    "ExecuteTime": {
     "end_time": "2022-05-30T15:19:33.395974Z",
     "start_time": "2022-05-30T15:19:33.379489Z"
    }
   },
   "outputs": [
    {
     "data": {
      "text/plain": [
       "1    0.537063\n",
       "0    0.462937\n",
       "Name: Target, dtype: float64"
      ]
     },
     "execution_count": 43,
     "metadata": {},
     "output_type": "execute_result"
    }
   ],
   "source": [
    "predictions[\"Target\"].value_counts()/predictions.shape[0]"
   ]
  },
  {
   "cell_type": "markdown",
   "id": "ae7f1107",
   "metadata": {},
   "source": [
    "## Improve the model adding columns"
   ]
  },
  {
   "cell_type": "code",
   "execution_count": 44,
   "id": "48e8ed80",
   "metadata": {
    "ExecuteTime": {
     "end_time": "2022-05-30T15:28:37.661031Z",
     "start_time": "2022-05-30T15:28:37.583236Z"
    }
   },
   "outputs": [],
   "source": [
    "horizons = [2, 5, 60, 250, 1000]\n",
    "new_predictors = []\n",
    "\n",
    "for horizon in horizons:\n",
    "    rollings_averages = sp500.rolling(horizon).mean()\n",
    "    \n",
    "    ratio_column = f\"Close_Ration_{horizon}\"\n",
    "    sp500[ratio_column] = sp500[\"Close\"] / rollings_averages[\"Close\"]\n",
    "    \n",
    "    trend_column = f\"Trend_{horizon}\"\n",
    "    sp500[trend_column] = sp500.shift(1).rolling(horizon).sum()[\"Target\"]\n",
    "    \n",
    "    new_predictors += [ratio_column, trend_column]\n",
    "    \n",
    "    "
   ]
  },
  {
   "cell_type": "code",
   "execution_count": 46,
   "id": "9fd4e481",
   "metadata": {
    "ExecuteTime": {
     "end_time": "2022-05-30T15:29:42.074896Z",
     "start_time": "2022-05-30T15:29:42.049287Z"
    }
   },
   "outputs": [],
   "source": [
    "sp500 = sp500.dropna()"
   ]
  },
  {
   "cell_type": "code",
   "execution_count": 47,
   "id": "1b3d8835",
   "metadata": {
    "ExecuteTime": {
     "end_time": "2022-05-30T15:29:48.261323Z",
     "start_time": "2022-05-30T15:29:48.220883Z"
    },
    "collapsed": true
   },
   "outputs": [
    {
     "data": {
      "text/html": [
       "<div>\n",
       "<style scoped>\n",
       "    .dataframe tbody tr th:only-of-type {\n",
       "        vertical-align: middle;\n",
       "    }\n",
       "\n",
       "    .dataframe tbody tr th {\n",
       "        vertical-align: top;\n",
       "    }\n",
       "\n",
       "    .dataframe thead th {\n",
       "        text-align: right;\n",
       "    }\n",
       "</style>\n",
       "<table border=\"1\" class=\"dataframe\">\n",
       "  <thead>\n",
       "    <tr style=\"text-align: right;\">\n",
       "      <th></th>\n",
       "      <th>Open</th>\n",
       "      <th>High</th>\n",
       "      <th>Low</th>\n",
       "      <th>Close</th>\n",
       "      <th>Volume</th>\n",
       "      <th>Tomorrow</th>\n",
       "      <th>Target</th>\n",
       "      <th>Close_Ration_2</th>\n",
       "      <th>Trend_2</th>\n",
       "      <th>Close_Ration_5</th>\n",
       "      <th>Trend_5</th>\n",
       "      <th>Close_Ration_60</th>\n",
       "      <th>Trend_60</th>\n",
       "      <th>Close_Ration_250</th>\n",
       "      <th>Trend_250</th>\n",
       "      <th>Close_Ration_1000</th>\n",
       "      <th>Trend_1000</th>\n",
       "    </tr>\n",
       "    <tr>\n",
       "      <th>Date</th>\n",
       "      <th></th>\n",
       "      <th></th>\n",
       "      <th></th>\n",
       "      <th></th>\n",
       "      <th></th>\n",
       "      <th></th>\n",
       "      <th></th>\n",
       "      <th></th>\n",
       "      <th></th>\n",
       "      <th></th>\n",
       "      <th></th>\n",
       "      <th></th>\n",
       "      <th></th>\n",
       "      <th></th>\n",
       "      <th></th>\n",
       "      <th></th>\n",
       "      <th></th>\n",
       "    </tr>\n",
       "  </thead>\n",
       "  <tbody>\n",
       "    <tr>\n",
       "      <th>1993-12-14</th>\n",
       "      <td>465.730011</td>\n",
       "      <td>466.119995</td>\n",
       "      <td>462.459991</td>\n",
       "      <td>463.059998</td>\n",
       "      <td>275050000</td>\n",
       "      <td>461.839996</td>\n",
       "      <td>0</td>\n",
       "      <td>0.997157</td>\n",
       "      <td>1.0</td>\n",
       "      <td>0.996617</td>\n",
       "      <td>1.0</td>\n",
       "      <td>1.000283</td>\n",
       "      <td>32.0</td>\n",
       "      <td>1.028047</td>\n",
       "      <td>127.0</td>\n",
       "      <td>1.176082</td>\n",
       "      <td>512.0</td>\n",
       "    </tr>\n",
       "    <tr>\n",
       "      <th>1993-12-15</th>\n",
       "      <td>463.059998</td>\n",
       "      <td>463.690002</td>\n",
       "      <td>461.839996</td>\n",
       "      <td>461.839996</td>\n",
       "      <td>331770000</td>\n",
       "      <td>463.339996</td>\n",
       "      <td>1</td>\n",
       "      <td>0.998681</td>\n",
       "      <td>0.0</td>\n",
       "      <td>0.995899</td>\n",
       "      <td>1.0</td>\n",
       "      <td>0.997329</td>\n",
       "      <td>32.0</td>\n",
       "      <td>1.025151</td>\n",
       "      <td>126.0</td>\n",
       "      <td>1.172676</td>\n",
       "      <td>512.0</td>\n",
       "    </tr>\n",
       "    <tr>\n",
       "      <th>1993-12-16</th>\n",
       "      <td>461.859985</td>\n",
       "      <td>463.980011</td>\n",
       "      <td>461.859985</td>\n",
       "      <td>463.339996</td>\n",
       "      <td>284620000</td>\n",
       "      <td>466.380005</td>\n",
       "      <td>1</td>\n",
       "      <td>1.001621</td>\n",
       "      <td>1.0</td>\n",
       "      <td>0.999495</td>\n",
       "      <td>2.0</td>\n",
       "      <td>1.000311</td>\n",
       "      <td>32.0</td>\n",
       "      <td>1.028274</td>\n",
       "      <td>127.0</td>\n",
       "      <td>1.176163</td>\n",
       "      <td>513.0</td>\n",
       "    </tr>\n",
       "    <tr>\n",
       "      <th>1993-12-17</th>\n",
       "      <td>463.339996</td>\n",
       "      <td>466.380005</td>\n",
       "      <td>463.339996</td>\n",
       "      <td>466.380005</td>\n",
       "      <td>363750000</td>\n",
       "      <td>465.850006</td>\n",
       "      <td>0</td>\n",
       "      <td>1.003270</td>\n",
       "      <td>2.0</td>\n",
       "      <td>1.004991</td>\n",
       "      <td>3.0</td>\n",
       "      <td>1.006561</td>\n",
       "      <td>32.0</td>\n",
       "      <td>1.034781</td>\n",
       "      <td>128.0</td>\n",
       "      <td>1.183537</td>\n",
       "      <td>514.0</td>\n",
       "    </tr>\n",
       "    <tr>\n",
       "      <th>1993-12-20</th>\n",
       "      <td>466.380005</td>\n",
       "      <td>466.899994</td>\n",
       "      <td>465.529999</td>\n",
       "      <td>465.850006</td>\n",
       "      <td>255900000</td>\n",
       "      <td>465.299988</td>\n",
       "      <td>0</td>\n",
       "      <td>0.999431</td>\n",
       "      <td>1.0</td>\n",
       "      <td>1.003784</td>\n",
       "      <td>2.0</td>\n",
       "      <td>1.005120</td>\n",
       "      <td>32.0</td>\n",
       "      <td>1.033359</td>\n",
       "      <td>128.0</td>\n",
       "      <td>1.181856</td>\n",
       "      <td>513.0</td>\n",
       "    </tr>\n",
       "    <tr>\n",
       "      <th>...</th>\n",
       "      <td>...</td>\n",
       "      <td>...</td>\n",
       "      <td>...</td>\n",
       "      <td>...</td>\n",
       "      <td>...</td>\n",
       "      <td>...</td>\n",
       "      <td>...</td>\n",
       "      <td>...</td>\n",
       "      <td>...</td>\n",
       "      <td>...</td>\n",
       "      <td>...</td>\n",
       "      <td>...</td>\n",
       "      <td>...</td>\n",
       "      <td>...</td>\n",
       "      <td>...</td>\n",
       "      <td>...</td>\n",
       "      <td>...</td>\n",
       "    </tr>\n",
       "    <tr>\n",
       "      <th>2022-05-20</th>\n",
       "      <td>3927.760010</td>\n",
       "      <td>3943.419922</td>\n",
       "      <td>3810.320068</td>\n",
       "      <td>3901.360107</td>\n",
       "      <td>4278520000</td>\n",
       "      <td>3973.750000</td>\n",
       "      <td>1</td>\n",
       "      <td>1.000073</td>\n",
       "      <td>1.0</td>\n",
       "      <td>0.984064</td>\n",
       "      <td>2.0</td>\n",
       "      <td>0.906629</td>\n",
       "      <td>27.0</td>\n",
       "      <td>0.879830</td>\n",
       "      <td>132.0</td>\n",
       "      <td>1.129182</td>\n",
       "      <td>553.0</td>\n",
       "    </tr>\n",
       "    <tr>\n",
       "      <th>2022-05-23</th>\n",
       "      <td>3919.419922</td>\n",
       "      <td>3981.879883</td>\n",
       "      <td>3909.040039</td>\n",
       "      <td>3973.750000</td>\n",
       "      <td>3392770000</td>\n",
       "      <td>3941.479980</td>\n",
       "      <td>0</td>\n",
       "      <td>1.009192</td>\n",
       "      <td>2.0</td>\n",
       "      <td>1.004059</td>\n",
       "      <td>3.0</td>\n",
       "      <td>0.924923</td>\n",
       "      <td>27.0</td>\n",
       "      <td>0.896335</td>\n",
       "      <td>132.0</td>\n",
       "      <td>1.149726</td>\n",
       "      <td>553.0</td>\n",
       "    </tr>\n",
       "    <tr>\n",
       "      <th>2022-05-24</th>\n",
       "      <td>3942.939941</td>\n",
       "      <td>3955.679932</td>\n",
       "      <td>3875.129883</td>\n",
       "      <td>3941.479980</td>\n",
       "      <td>3901640000</td>\n",
       "      <td>3978.729980</td>\n",
       "      <td>1</td>\n",
       "      <td>0.995923</td>\n",
       "      <td>1.0</td>\n",
       "      <td>1.003378</td>\n",
       "      <td>2.0</td>\n",
       "      <td>0.918954</td>\n",
       "      <td>27.0</td>\n",
       "      <td>0.889264</td>\n",
       "      <td>131.0</td>\n",
       "      <td>1.139996</td>\n",
       "      <td>552.0</td>\n",
       "    </tr>\n",
       "    <tr>\n",
       "      <th>2022-05-25</th>\n",
       "      <td>3929.590088</td>\n",
       "      <td>3999.330078</td>\n",
       "      <td>3925.030029</td>\n",
       "      <td>3978.729980</td>\n",
       "      <td>4322190000</td>\n",
       "      <td>4057.840088</td>\n",
       "      <td>1</td>\n",
       "      <td>1.004703</td>\n",
       "      <td>1.0</td>\n",
       "      <td>1.010029</td>\n",
       "      <td>3.0</td>\n",
       "      <td>0.928821</td>\n",
       "      <td>28.0</td>\n",
       "      <td>0.897851</td>\n",
       "      <td>131.0</td>\n",
       "      <td>1.150369</td>\n",
       "      <td>552.0</td>\n",
       "    </tr>\n",
       "    <tr>\n",
       "      <th>2022-05-26</th>\n",
       "      <td>3984.600098</td>\n",
       "      <td>4075.139893</td>\n",
       "      <td>3984.600098</td>\n",
       "      <td>4057.840088</td>\n",
       "      <td>3961940000</td>\n",
       "      <td>4158.240234</td>\n",
       "      <td>1</td>\n",
       "      <td>1.009844</td>\n",
       "      <td>2.0</td>\n",
       "      <td>1.021963</td>\n",
       "      <td>4.0</td>\n",
       "      <td>0.948502</td>\n",
       "      <td>28.0</td>\n",
       "      <td>0.915823</td>\n",
       "      <td>132.0</td>\n",
       "      <td>1.172805</td>\n",
       "      <td>553.0</td>\n",
       "    </tr>\n",
       "  </tbody>\n",
       "</table>\n",
       "<p>7165 rows × 17 columns</p>\n",
       "</div>"
      ],
      "text/plain": [
       "                   Open         High          Low        Close      Volume  \\\n",
       "Date                                                                         \n",
       "1993-12-14   465.730011   466.119995   462.459991   463.059998   275050000   \n",
       "1993-12-15   463.059998   463.690002   461.839996   461.839996   331770000   \n",
       "1993-12-16   461.859985   463.980011   461.859985   463.339996   284620000   \n",
       "1993-12-17   463.339996   466.380005   463.339996   466.380005   363750000   \n",
       "1993-12-20   466.380005   466.899994   465.529999   465.850006   255900000   \n",
       "...                 ...          ...          ...          ...         ...   \n",
       "2022-05-20  3927.760010  3943.419922  3810.320068  3901.360107  4278520000   \n",
       "2022-05-23  3919.419922  3981.879883  3909.040039  3973.750000  3392770000   \n",
       "2022-05-24  3942.939941  3955.679932  3875.129883  3941.479980  3901640000   \n",
       "2022-05-25  3929.590088  3999.330078  3925.030029  3978.729980  4322190000   \n",
       "2022-05-26  3984.600098  4075.139893  3984.600098  4057.840088  3961940000   \n",
       "\n",
       "               Tomorrow  Target  Close_Ration_2  Trend_2  Close_Ration_5  \\\n",
       "Date                                                                       \n",
       "1993-12-14   461.839996       0        0.997157      1.0        0.996617   \n",
       "1993-12-15   463.339996       1        0.998681      0.0        0.995899   \n",
       "1993-12-16   466.380005       1        1.001621      1.0        0.999495   \n",
       "1993-12-17   465.850006       0        1.003270      2.0        1.004991   \n",
       "1993-12-20   465.299988       0        0.999431      1.0        1.003784   \n",
       "...                 ...     ...             ...      ...             ...   \n",
       "2022-05-20  3973.750000       1        1.000073      1.0        0.984064   \n",
       "2022-05-23  3941.479980       0        1.009192      2.0        1.004059   \n",
       "2022-05-24  3978.729980       1        0.995923      1.0        1.003378   \n",
       "2022-05-25  4057.840088       1        1.004703      1.0        1.010029   \n",
       "2022-05-26  4158.240234       1        1.009844      2.0        1.021963   \n",
       "\n",
       "            Trend_5  Close_Ration_60  Trend_60  Close_Ration_250  Trend_250  \\\n",
       "Date                                                                          \n",
       "1993-12-14      1.0         1.000283      32.0          1.028047      127.0   \n",
       "1993-12-15      1.0         0.997329      32.0          1.025151      126.0   \n",
       "1993-12-16      2.0         1.000311      32.0          1.028274      127.0   \n",
       "1993-12-17      3.0         1.006561      32.0          1.034781      128.0   \n",
       "1993-12-20      2.0         1.005120      32.0          1.033359      128.0   \n",
       "...             ...              ...       ...               ...        ...   \n",
       "2022-05-20      2.0         0.906629      27.0          0.879830      132.0   \n",
       "2022-05-23      3.0         0.924923      27.0          0.896335      132.0   \n",
       "2022-05-24      2.0         0.918954      27.0          0.889264      131.0   \n",
       "2022-05-25      3.0         0.928821      28.0          0.897851      131.0   \n",
       "2022-05-26      4.0         0.948502      28.0          0.915823      132.0   \n",
       "\n",
       "            Close_Ration_1000  Trend_1000  \n",
       "Date                                       \n",
       "1993-12-14           1.176082       512.0  \n",
       "1993-12-15           1.172676       512.0  \n",
       "1993-12-16           1.176163       513.0  \n",
       "1993-12-17           1.183537       514.0  \n",
       "1993-12-20           1.181856       513.0  \n",
       "...                       ...         ...  \n",
       "2022-05-20           1.129182       553.0  \n",
       "2022-05-23           1.149726       553.0  \n",
       "2022-05-24           1.139996       552.0  \n",
       "2022-05-25           1.150369       552.0  \n",
       "2022-05-26           1.172805       553.0  \n",
       "\n",
       "[7165 rows x 17 columns]"
      ]
     },
     "execution_count": 47,
     "metadata": {},
     "output_type": "execute_result"
    }
   ],
   "source": [
    "sp500"
   ]
  },
  {
   "cell_type": "markdown",
   "id": "5f34f008",
   "metadata": {},
   "source": [
    "## Improve the model changing the treshold"
   ]
  },
  {
   "cell_type": "code",
   "execution_count": 48,
   "id": "f46f0efb",
   "metadata": {
    "ExecuteTime": {
     "end_time": "2022-05-30T15:30:40.520900Z",
     "start_time": "2022-05-30T15:30:40.512983Z"
    }
   },
   "outputs": [],
   "source": [
    "model=RandomForestClassifier(n_estimators=200, min_samples_split=50, random_state=1)"
   ]
  },
  {
   "cell_type": "code",
   "execution_count": 49,
   "id": "0aeb0d4c",
   "metadata": {
    "ExecuteTime": {
     "end_time": "2022-05-30T15:33:02.926851Z",
     "start_time": "2022-05-30T15:33:02.906538Z"
    }
   },
   "outputs": [],
   "source": [
    "def predict(train, test, predctors, model):\n",
    "    model.fit(train[predictors], train['Target'])\n",
    "    preds = model.predict_proba(test[predictors])[:,1]\n",
    "    preds[preds >= .6] = 1 #change treshold to be more confident \n",
    "    preds[preds < .6] = 0\n",
    "    preds = pd.Series(preds, index=test.index, name=\"Predictions\")\n",
    "    combined = pd.concat([test['Target'], preds], axis=1)\n",
    "    return combined"
   ]
  },
  {
   "cell_type": "code",
   "execution_count": 50,
   "id": "47009bb7",
   "metadata": {
    "ExecuteTime": {
     "end_time": "2022-05-30T15:34:11.146862Z",
     "start_time": "2022-05-30T15:33:35.983218Z"
    }
   },
   "outputs": [],
   "source": [
    "predictions = backtest(sp500, model, new_predictors)"
   ]
  },
  {
   "cell_type": "code",
   "execution_count": 51,
   "id": "19faa6d6",
   "metadata": {
    "ExecuteTime": {
     "end_time": "2022-05-30T15:34:22.235367Z",
     "start_time": "2022-05-30T15:34:22.218870Z"
    }
   },
   "outputs": [
    {
     "data": {
      "text/plain": [
       "0.0    3900\n",
       "1.0     765\n",
       "Name: Predictions, dtype: int64"
      ]
     },
     "execution_count": 51,
     "metadata": {},
     "output_type": "execute_result"
    }
   ],
   "source": [
    "predictions[\"Predictions\"].value_counts()"
   ]
  },
  {
   "cell_type": "code",
   "execution_count": 52,
   "id": "c6494db8",
   "metadata": {
    "ExecuteTime": {
     "end_time": "2022-05-30T15:34:48.826249Z",
     "start_time": "2022-05-30T15:34:48.805278Z"
    }
   },
   "outputs": [
    {
     "data": {
      "text/plain": [
       "0.5490196078431373"
      ]
     },
     "execution_count": 52,
     "metadata": {},
     "output_type": "execute_result"
    }
   ],
   "source": [
    "precision_score(predictions[\"Target\"], predictions[\"Predictions\"])"
   ]
  },
  {
   "cell_type": "code",
   "execution_count": null,
   "id": "29897b2c",
   "metadata": {},
   "outputs": [],
   "source": []
  }
 ],
 "metadata": {
  "kernelspec": {
   "display_name": "Python 3 (ipykernel)",
   "language": "python",
   "name": "python3"
  },
  "language_info": {
   "codemirror_mode": {
    "name": "ipython",
    "version": 3
   },
   "file_extension": ".py",
   "mimetype": "text/x-python",
   "name": "python",
   "nbconvert_exporter": "python",
   "pygments_lexer": "ipython3",
   "version": "3.8.12"
  },
  "toc": {
   "base_numbering": 1,
   "nav_menu": {},
   "number_sections": true,
   "sideBar": true,
   "skip_h1_title": false,
   "title_cell": "Table of Contents",
   "title_sidebar": "Contents",
   "toc_cell": false,
   "toc_position": {},
   "toc_section_display": true,
   "toc_window_display": false
  }
 },
 "nbformat": 4,
 "nbformat_minor": 5
}
